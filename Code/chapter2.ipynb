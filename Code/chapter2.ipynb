{
 "cells": [
  {
   "cell_type": "markdown",
   "metadata": {},
   "source": [
    "### **Chapter 2: Sampling, Fourier Transform, and Convolution**\n",
    "#### Ex. 1: Implement down-sampling with anti-aliasing using the Gaussian LPF (hint: reduce the house grayscale image four times, first by applying a Gaussian filterand then by filtering every other row and column. Compare the output images with and without pre-processing with LPF before down-sampling). \n",
    "Bài toán yêu cầu triển khai kỹ thuật giảm mẫu (down-sampling) với xử lý anti-aliasing sử dụng bộ lọc thông thấp Gaussian (Gaussian Low Pass Filter - LPF). Anti-aliasing là một kỹ thuật được sử dụng để giảm thiểu hiện tượng nhấp nháy (aliasing) khi giảm độ phân giải ảnh. Để thực hiện giảm mẫu có hiệu quả, ảnh cần được xử lý trước bằng cách sử dụng bộ lọc thông thấp, giúp loại bỏ các thành phần tần số cao có thể gây ra nhấp nháy trong quá trình giảm mẫu.\n",
    "\n",
    "---"
   ]
  },
  {
   "cell_type": "markdown",
   "metadata": {},
   "source": [
    "#### 1. Import các thư viện cần thiết"
   ]
  },
  {
   "cell_type": "code",
   "execution_count": null,
   "metadata": {},
   "outputs": [],
   "source": [
    "import matplotlib.pyplot as plt\n",
    "from matplotlib import cm\n",
    "from skimage.color import rgb2gray\n",
    "from skimage.io import imread\n",
    "from scipy.signal.windows import gaussian\n",
    "import scipy.fftpack as fp\n",
    "import numpy as np"
   ]
  },
  {
   "cell_type": "markdown",
   "metadata": {},
   "source": [
    "#### 2. Đọc ảnh và tạo bộ lọc Gaussian"
   ]
  },
  {
   "cell_type": "code",
   "execution_count": null,
   "metadata": {},
   "outputs": [],
   "source": [
    "im = rgb2gray(imread('input/lena.jpg'))\n",
    "kernel = np.outer(gaussian(im.shape[0], 1), gaussian(im.shape[1], 1))"
   ]
  },
  {
   "cell_type": "markdown",
   "metadata": {},
   "source": [
    "#### 3. Thực hiện phép biến đổi Fourier và làm mờ ảnh"
   ]
  },
  {
   "cell_type": "code",
   "execution_count": null,
   "metadata": {},
   "outputs": [],
   "source": [
    "freq = fp.fft2(im)\n",
    "assert(freq.shape == kernel.shape)\n",
    "freq_kernel = fp.fft2(fp.ifftshift(kernel))\n",
    "convolved = freq*freq_kernel  # by the Convolution theorem\n",
    "im_blur = fp.ifft2(convolved).real\n",
    "im_blur = 255 * im_blur / np.max(im_blur)"
   ]
  },
  {
   "cell_type": "markdown",
   "metadata": {},
   "source": [
    "#### 4. Vẽ các kết quả"
   ]
  },
  {
   "cell_type": "code",
   "execution_count": null,
   "metadata": {},
   "outputs": [],
   "source": [
    "plt.figure(figsize=(20,20))\n",
    "\n",
    "plt.subplot(221)\n",
    "plt.imshow(kernel, cmap='coolwarm')\n",
    "plt.colorbar()\n",
    "plt.title('Gaussian Blur Kernel', size=20)\n",
    "\n",
    "plt.subplot(222)\n",
    "plt.imshow( (20*np.log10( 0.01 + fp.fftshift(freq_kernel))).real.astype(int), cmap='coolwarm')\n",
    "plt.colorbar()\n",
    "plt.title('Gaussian Blur Kernel (Freq. Spec.)', size=20)\n",
    "\n",
    "plt.show()"
   ]
  },
  {
   "cell_type": "code",
   "execution_count": null,
   "metadata": {},
   "outputs": [],
   "source": [
    "plt.figure(figsize=(10, 10))\n",
    "\n",
    "plt.subplot(223)\n",
    "plt.imshow(im, cmap='gray')\n",
    "plt.title('Input Image', size=15)\n",
    "\n",
    "\n",
    "plt.subplot(224)\n",
    "plt.imshow(im_blur, cmap='gray')\n",
    "plt.title('Output Blurred Image', size=15)\n",
    "\n",
    "plt.show()"
   ]
  },
  {
   "cell_type": "markdown",
   "metadata": {},
   "source": [
    "#### 5. Vẽ biểu đồ 3D"
   ]
  },
  {
   "cell_type": "markdown",
   "metadata": {},
   "source": [
    "##### 5.1 Xây dựng hàm vẽ biểu đồ 3D plot_3d() và tạo figure 3D"
   ]
  },
  {
   "cell_type": "code",
   "execution_count": null,
   "metadata": {},
   "outputs": [],
   "source": [
    "from matplotlib.ticker import LinearLocator, FormatStrFormatter\n",
    "\n",
    "def plot_3d(X, Y, Z):\n",
    "    # Vẽ bề mặt 3D.\n",
    "    surf = ax.plot_surface(X, Y, Z, cmap=cm.coolwarm, linewidth=0, antialiased=False)  \n",
    "    ax.zaxis.set_major_locator(LinearLocator(10))  # Đặt số lượng chỉ số cho trục Z\n",
    "    ax.zaxis.set_major_formatter(FormatStrFormatter('%.02f'))  # Định dạng nhãn trục Z\n",
    "    ax.set_xlabel('F1', size=20)  # Đặt nhãn trục X\n",
    "    ax.set_ylabel('F2', size=20)  # Đặt nhãn trục Y\n",
    "    ax.set_zlabel('Freq Response', size=20)  # Đặt nhãn trục Z\n",
    "    plt.show()  # Hiển thị biểu đồ\n"
   ]
  },
  {
   "cell_type": "markdown",
   "metadata": {},
   "source": [
    "- ax.plot_surface(X, Y, Z, cmap=cm.coolwarm, linewidth=0, antialiased=False): vẽ bề mặt 3D từ dữ liệu X, Y, và Z với cmap=cm.coolwarm để tô màu bề mặt theo thang màu coolwarm \n",
    "    - linewidth=0 và antialiased=False giúp bề mặt trơn tru mà không có đường viền.\n",
    "- ax.zaxis.set_major_locator(LinearLocator(10)): đặt số lượng chỉ số cho trục Z là 10.\n",
    "- ax.zaxis.set_major_formatter(FormatStrFormatter('%.02f')): dịnh dạng số liệu trên trục Z để hiển thị 2 chữ số thập phân.\n",
    "- ax.set_xlabel('F1', size=20): dặt nhãn cho trục X với font size là 20.\n",
    "- ax.set_ylabel('F2', size=20): dặt nhãn cho trục Y với font size là 20.\n",
    "- ax.set_zlabel('Freq Response', size=20): đặt nhãn cho trục Z với font size là 20.\n",
    "- plt.show(): Hiển thị biểu đồ sau khi vẽ."
   ]
  },
  {
   "cell_type": "markdown",
   "metadata": {},
   "source": [
    "##### 5.2  Biểu đồ hiển thị Tần số của Bộ lọc Gaussian (freq_kernel)"
   ]
  },
  {
   "cell_type": "code",
   "execution_count": null,
   "metadata": {},
   "outputs": [],
   "source": [
    "# Tạo và cấu hình figure 3D\n",
    "fig = plt.figure(figsize=(12,12))  # Tạo figure\n",
    "ax = fig.add_subplot(111, projection='3d') # Lấy trục 3D\n",
    "\n",
    "# Vẽ biểu đồ\n",
    "Y = np.arange(freq.shape[0]) #-freq.shape[0]//2,freq.shape[0]-freq.shape[0]//2)\n",
    "X = np.arange(freq.shape[1]) #-freq.shape[1]//2,freq.shape[1]-freq.shape[1]//2)\n",
    "X, Y = np.meshgrid(X, Y)\n",
    "Z = (20*np.log10( 0.01 + fp.fftshift(freq_kernel))).real\n",
    "plot_3d(X,Y,Z)"
   ]
  },
  {
   "cell_type": "markdown",
   "metadata": {},
   "source": [
    "- Tạo và cấu hình figure 3D:\n",
    "    - fig = plt.figure(figsize=(12,12)): Tạo một figure có kích thước 12x12 inches để hiển thị các biểu đồ với không gian rộng rãi.\n",
    "    - ax = fig.add_subplot(111, projection='3d'): Tạo một trục 3D trong figure. 111 chỉ ra rằng đang tạo một lưới subplot 1x1 và chọn subplot đầu tiên (chỉ có một biểu đồ). projection='3d' xác định rằng bạn muốn tạo biểu đồ 3D.\n",
    "- fig = plt.figure(figsize=(12,12)): Tạo một figure có kích thước 12x12 inches để hiển thị các biểu đồ với không gian rộng rãi.\n",
    "- ax = fig.add_subplot(111, projection='3d'): Tạo một trục 3D trong figure. \n",
    "    - 111 chỉ ra rằng đang tạo một lưới subplot 1x1 và chỉ có duy nhất biểu đồ này.\n",
    "    - projection='3d' xác định rằng bạn muốn tạo biểu đồ 3D."
   ]
  },
  {
   "cell_type": "markdown",
   "metadata": {},
   "source": [
    "##### 5.3 Biểu đồ hiển thị Tần số của Ảnh (freq)"
   ]
  },
  {
   "cell_type": "code",
   "execution_count": null,
   "metadata": {},
   "outputs": [],
   "source": [
    "fig = plt.figure(figsize=(12,12))\n",
    "ax = fig.add_subplot(111, projection='3d')\n",
    "\n",
    "Z = (20*np.log10( 0.01 + fp.fftshift(freq))).real\n",
    "plot_3d(X,Y,Z)"
   ]
  },
  {
   "cell_type": "markdown",
   "metadata": {},
   "source": [
    "- fp.fftshift(freq_kernel): Dịch chuyển tần số của bộ lọc Gaussian trong không gian Fourier sao cho phần trung tâm của phổ (frequency spectrum) được đặt vào giữa.\n",
    "    - 20*np.log10(0.01 + ...): Chuyển đổi tần số của bộ lọc Gaussian sang đơn vị decibel (dB) để dễ dàng quan sát. Thêm 0.01 để tránh giá trị logarit không xác định khi giá trị quá nhỏ.\n",
    "    - .real: Lấy phần thực của kết quả sau phép biến đổi (sau khi biến đổi tần số)."
   ]
  },
  {
   "cell_type": "markdown",
   "metadata": {},
   "source": [
    "##### 5.4 Biểu đồ hiển thị Tần số của Kết quả Tích chập (convolved)"
   ]
  },
  {
   "cell_type": "code",
   "execution_count": null,
   "metadata": {},
   "outputs": [],
   "source": [
    "fig = plt.figure(figsize=(12,12))\n",
    "ax = fig.add_subplot(111, projection='3d')\n",
    "Z = (20*np.log10( 0.01 + fp.fftshift(convolved))).real\n",
    "plot_3d(X,Y,Z)"
   ]
  },
  {
   "cell_type": "markdown",
   "metadata": {},
   "source": [
    "- fp.fftshift(freq): Tương tự, dịch chuyển tần số của ảnh trong không gian Fourier để đưa phần trung tâm vào giữa, làm cho các tần số thấp xuất hiện ở giữa và các tần số cao ở các cạnh.\n",
    "    - 20*np.log10(0.01 + ...): Chuyển đổi phổ tần số của ảnh sang đơn vị decibel (dB).\n",
    "    - .real: Lấy phần thực của kết quả sau khi dịch chuyển và chuyển đổi sang dB"
   ]
  }
 ],
 "metadata": {
  "kernelspec": {
   "display_name": "Python 3",
   "language": "python",
   "name": "python3"
  },
  "language_info": {
   "codemirror_mode": {
    "name": "ipython",
    "version": 3
   },
   "file_extension": ".py",
   "mimetype": "text/x-python",
   "name": "python",
   "nbconvert_exporter": "python",
   "pygments_lexer": "ipython3",
   "version": "3.11.4"
  }
 },
 "nbformat": 4,
 "nbformat_minor": 2
}
