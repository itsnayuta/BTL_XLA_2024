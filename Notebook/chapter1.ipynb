{
 "cells": [
  {
   "cell_type": "markdown",
   "metadata": {},
   "source": [
    "### **Chapter 1: Use the scipy ndimage and misc modules' functions to zoom, crop, resize, and apply Affine transformation to an image.**"
   ]
  },
  {
   "cell_type": "markdown",
   "metadata": {},
   "source": [
    "***\n",
    "#### Mô tả: Bài tập này yêu cầu sử dụng các hàm của modules scipy.ndimage và scipy.misc để thực hiện các thao tác xử lý ảnh cơ bản như phóng to, cắt xén, thay đổi kích thước và biến đổi Affine.<p>\n",
    "#### 1. Import các thư viện cần thiết:"
   ]
  },
  {
   "cell_type": "code",
   "execution_count": null,
   "metadata": {},
   "outputs": [],
   "source": [
    "import numpy as np\n",
    "import scipy.ndimage as ndi\n",
    "from PIL import Image\n",
    "import matplotlib.pyplot as plt\n",
    "from skimage.transform import SimilarityTransform, warp"
   ]
  },
  {
   "cell_type": "markdown",
   "metadata": {},
   "source": [
    "1. **numpy**:\n",
    "    + Dùng để xử lý các mảng dữ liệu số, đặc biệt là mảng nhiều chiều, giúp biểu diễn và thao tác trên ảnh.\n",
    "2. **scipy.ndimage**:\n",
    "    + Cung cấp các hàm để xử lý ảnh như phóng to (zoom), biến đổi Affine (affine_transform), lọc ảnh, và các thao tác khác liên quan đến ảnh.\n",
    "3. **PIL**:\n",
    "    + Giúp mở, lưu, và xử lý ảnh. PIL cho phép chuyển đổi ảnh sang mảng numpy để có thể sử dụng với scipy.ndimage và ngược lại.\n",
    "4. **matplotlib.pyplot**:\n",
    "    + Dùng để hiển thị ảnh trong Jupyter Notebook hoặc trực quan hóa kết quả của các thao tác xử lý ảnh. Ngoài ra, cung cấp các công cụ mạnh mẽ để tạo biểu đồ và đồ thị.\n",
    "5. **skimage.transform**:\n",
    "    + Chứa các công cụ để thực hiện các phép biến đổi ảnh phức tạp, như SimilarityTransform để thực hiện các biến đổi Affine và warp để áp dụng các phép biến đổi này lên ảnh SimilarityTransform hỗ trợ các biến đổi giữ nguyên tỷ lệ như dịch chuyển, xoay, và phóng to/thu nhỏ ảnh mà không làm thay đổi hình dạng của ảnh."
   ]
  },
  {
   "cell_type": "markdown",
   "metadata": {},
   "source": [
    "#### 2. Mở ảnh, in thông tin và hiển thị ảnh gốc:"
   ]
  },
  {
   "cell_type": "code",
   "execution_count": null,
   "metadata": {},
   "outputs": [],
   "source": [
    "image = Image.open('sea_bird.jpg') \n",
    "print(type(image), image.mode, image.width, image.height) \n",
    "image_np = np.array(image)\n",
    "\n",
    "plt.subplot(1, 1, 1)\n",
    "plt.imshow(image_np)\n",
    "plt.axis('off')\n",
    "plt.title(\"Original Image\")"
   ]
  },
  {
   "cell_type": "markdown",
   "metadata": {},
   "source": [
    "1. Image.open('sea_bird.jpg') :\n",
    "    + Ảnh được mở từ file có tên 'sea_bird.jpg' và lưu dưới dạng một đối tượng PIL.Image.Image.\n",
    "2. print(type(image), image.mode, image.width, image.height) :\n",
    "    + type(image): In ra kiểu dữ liệu của ảnh (thường là <class 'PIL.Image.Image'>)\n",
    "    + image.mode: In ra chế độ màu của ảnh (ví dụ: 'RGB' cho ảnh màu 3 kênh hoặc 'L' cho ảnh đen trắng).\n",
    "    + image.width, image.height: In ra chiều rộng và chiều cao của ảnh.\n",
    "3. Chuyển đổi sang mảng numpy (image_np = np.array(image)) :\n",
    "    + Ảnh PIL được chuyển sang một mảng numpy, giúp thực hiện các phép xử lý ảnh bằng các công cụ khác như scipy.ndimage.\n",
    "4. Hiển thị ảnh bằng matplotlib :\n",
    "    + Ảnh được hiển thị bằng plt.imshow(image_np), (plt.axis('off')) giúp ẩn các trục tọa độ để tập trung vào hình ảnh.\n",
    "    + plt.title(\"Original Image\") đặt tiêu đề cho hình ảnh là “Original Image”."
   ]
  },
  {
   "cell_type": "markdown",
   "metadata": {},
   "source": [
    "#### 3. Xử lý ảnh:"
   ]
  },
  {
   "cell_type": "code",
   "execution_count": null,
   "metadata": {},
   "outputs": [],
   "source": [
    "# Zooming the image\n",
    "zoomed_image = ndi.zoom(image, (1.5, 1.5, 1))  # zoom by a factor of 1.5\n",
    "\n",
    "# Cropping the image\n",
    "cropped_image = image.crop((175,75,320,200))\n",
    "\n",
    "# Resizing the image \n",
    "resized_image = image.resize((200, 200))\n",
    "\n",
    "# Applying an Affine transformation on an image\n",
    "tform = SimilarityTransform(scale=0.9,\n",
    "                            rotation=np.pi/4,\n",
    "                            translation=(image_np.shape[0]/2, -100))\n",
    "transformed_image = warp(image_np, tform)"
   ]
  },
  {
   "cell_type": "markdown",
   "metadata": {},
   "source": [
    "1. zoomed_image = ndi.zoom(image, (1.5, 1.5, 1)) :\n",
    "    + Phóng to ảnh với hệ số 1.5\n",
    "2. cropped_image = image.crop((175,75,320,200)) : Cắt ảnh theo hình chữ nhật\n",
    "    + (x_ min, y_min) là tọa độ góc trên bên trái\n",
    "    + (x_max, y_max) là tọa độ góc dưới bên phải\n",
    "3. resized_image = image.resize((200, 200)) : \n",
    "    + Thay đổi kích thước ảnh thành 200 x 200 pixel\n",
    "4. tform = SimilarityTransform(scale=0.9, rotation=np.pi/4,translation=(image_np.shape[0]/2, -100))<p>\n",
    "transformed_image = warp(image_np, tform)\n",
    "    + SimilarityTransform từ thư viện skimage sẽ tạo ra một phép biến đổi tỉ lệ\n",
    "    + Các tham số:\n",
    "        + scale=0.9: Co ảnh lại 90%.\n",
    "        + rotation=np.pi/4: Xoay ảnh 45 độ (đơn vị radian).\n",
    "        + translation=(image_np.shape[0]/2, -100): Dịch chuyển ảnh với:\n",
    "            + image_np.shape[0]/2 là dịch chuyển theo trục x (nửa chiều cao của ảnh).\n",
    "            + -100 là dịch chuyển theo trục y.\n",
    "    + Trả về kết quả transformed_image = warp(image_np, tform) với warp sẽ giúp biến đổi áp dụng này lên image_np"
   ]
  },
  {
   "cell_type": "markdown",
   "metadata": {},
   "source": [
    "#### 4. Hiển thị ảnh Ouput sau khi xử lý:"
   ]
  },
  {
   "cell_type": "code",
   "execution_count": null,
   "metadata": {},
   "outputs": [],
   "source": [
    "# Display the transformations\n",
    "plt.figure(figsize=(10, 8))\n",
    "\n",
    "plt.subplot(2, 2, 1)\n",
    "plt.imshow(zoomed_image)\n",
    "plt.title(\"Zoomed Image\")\n",
    "plt.axis('off')\n",
    "\n",
    "plt.subplot(2, 2, 2)\n",
    "plt.imshow(cropped_image)\n",
    "plt.title(\"Cropped Image\")\n",
    "plt.axis('off')\n",
    "\n",
    "plt.subplot(2, 2, 3)\n",
    "plt.imshow(resized_image)\n",
    "plt.title(\"Resized Image\")\n",
    "plt.axis('off')\n",
    "\n",
    "plt.subplot(2, 2, 4)\n",
    "plt.imshow(transformed_image)\n",
    "plt.title(\"Affine Transformed Image\")\n",
    "plt.axis('off')\n",
    "\n",
    "plt.tight_layout()\n",
    "plt.show()\n"
   ]
  },
  {
   "cell_type": "markdown",
   "metadata": {},
   "source": [
    "1. plt.figure(figsize=(10, 8)): \n",
    "    + Tạo một khung vẽ cho các ảnh với kích thước 10x8 inch\n",
    "2. Hiển thị từng ảnh ở 4 góc của bức ảnh với plt.subplot và plt.imshow, plt.title giúp đặt tên tiêu đề bức ảnh\n",
    "    + Ảnh sau khi được phóng to nằm ở ô đầu tiên, với kích thước bố cục 2x2\n",
    "    + Ảnh sau khi được cắt, với kích thước bố cục 2x2\n",
    "    + Ảnh sau khi được thay đổi kích thước, với kích thước bố cục 2x2\n",
    "    + Ảnh sau khi được áp dụng biến đổi Affine, với kích thước bố cục 2x2\n",
    "3. plt.tight_layout(): điều chỉnh bố cục\n",
    "    + Giúp các hình ảnh không bị chồng lấp và có khoảng cách hợp lý giữa các ô.\n",
    "4. plt.show(): Hiển thị kết quả\n",
    "    + Hiển thị toàn bộ khung với các ảnh đã được chuyển đổi."
   ]
  }
 ],
 "metadata": {
  "kernelspec": {
   "display_name": "Python 3",
   "language": "python",
   "name": "python3"
  },
  "language_info": {
   "codemirror_mode": {
    "name": "ipython",
    "version": 3
   },
   "file_extension": ".py",
   "mimetype": "text/x-python",
   "name": "python",
   "nbconvert_exporter": "python",
   "pygments_lexer": "ipython3",
   "version": "3.11.4"
  }
 },
 "nbformat": 4,
 "nbformat_minor": 2
}
